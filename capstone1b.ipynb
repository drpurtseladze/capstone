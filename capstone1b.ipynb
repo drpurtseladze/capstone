{
 "cells": [
  {
   "cell_type": "code",
   "execution_count": 1,
   "metadata": {},
   "outputs": [],
   "source": [
    "import pandas as pd\n",
    "import numpy as np\n",
    "import requests\n",
    "import geocoder"
   ]
  },
  {
   "cell_type": "markdown",
   "metadata": {},
   "source": [
    "Use beautfiul soup to locate the table header and content"
   ]
  },
  {
   "cell_type": "code",
   "execution_count": 2,
   "metadata": {},
   "outputs": [
    {
     "name": "stdout",
     "output_type": "stream",
     "text": [
      "['Postcode', 'Borough', 'Neighbourhood']\n",
      "Extracted from html...\n"
     ]
    }
   ],
   "source": [
    "from bs4 import BeautifulSoup\n",
    "page_address='https://en.wikipedia.org/wiki/List_of_postal_codes_of_Canada:_M'\n",
    "page_content=requests.get(page_address).text\n",
    "soup = BeautifulSoup(page_content,'html.parser')\n",
    "\n",
    "sa=[]\n",
    "\n",
    "#fetch column names\n",
    "titlerow = soup.find('tr').text\n",
    "head_=titlerow.split('\\n')\n",
    "del head_[0]\n",
    "del head_[-1]\n",
    "\n",
    "print(head_)\n",
    "\n",
    "#fetch column content\n",
    "for rows_ in soup.findAll('tr'):\n",
    "    s=''\n",
    "    for columns_ in rows_.findAll('td'):\n",
    "        s=s+','+columns_.text\n",
    "\n",
    "    s=s[1:]\n",
    "    s=s.replace('\\n','')\n",
    "    sp=s.split(',')\n",
    "    sa.append(sp)\n",
    "  \n",
    "#clean up      \n",
    "del sa[0]\n",
    "for i in range(293,288,-1):\n",
    "    del sa[i]\n",
    "    \n",
    "print('Extracted from html...')\n",
    "\n",
    "df = pd.DataFrame.from_records(sa, columns=head_)"
   ]
  },
  {
   "cell_type": "code",
   "execution_count": 3,
   "metadata": {},
   "outputs": [
    {
     "data": {
      "text/html": [
       "<div>\n",
       "<style scoped>\n",
       "    .dataframe tbody tr th:only-of-type {\n",
       "        vertical-align: middle;\n",
       "    }\n",
       "\n",
       "    .dataframe tbody tr th {\n",
       "        vertical-align: top;\n",
       "    }\n",
       "\n",
       "    .dataframe thead th {\n",
       "        text-align: right;\n",
       "    }\n",
       "</style>\n",
       "<table border=\"1\" class=\"dataframe\">\n",
       "  <thead>\n",
       "    <tr style=\"text-align: right;\">\n",
       "      <th></th>\n",
       "      <th>Postcode</th>\n",
       "      <th>Borough</th>\n",
       "      <th>Neighbourhood</th>\n",
       "    </tr>\n",
       "  </thead>\n",
       "  <tbody>\n",
       "    <tr>\n",
       "      <th>0</th>\n",
       "      <td>M1A</td>\n",
       "      <td>Not assigned</td>\n",
       "      <td>Not assigned</td>\n",
       "    </tr>\n",
       "    <tr>\n",
       "      <th>1</th>\n",
       "      <td>M2A</td>\n",
       "      <td>Not assigned</td>\n",
       "      <td>Not assigned</td>\n",
       "    </tr>\n",
       "    <tr>\n",
       "      <th>2</th>\n",
       "      <td>M3A</td>\n",
       "      <td>North York</td>\n",
       "      <td>Parkwoods</td>\n",
       "    </tr>\n",
       "    <tr>\n",
       "      <th>3</th>\n",
       "      <td>M4A</td>\n",
       "      <td>North York</td>\n",
       "      <td>Victoria Village</td>\n",
       "    </tr>\n",
       "    <tr>\n",
       "      <th>4</th>\n",
       "      <td>M5A</td>\n",
       "      <td>Downtown Toronto</td>\n",
       "      <td>Harbourfront</td>\n",
       "    </tr>\n",
       "  </tbody>\n",
       "</table>\n",
       "</div>"
      ],
      "text/plain": [
       "  Postcode           Borough     Neighbourhood\n",
       "0      M1A      Not assigned      Not assigned\n",
       "1      M2A      Not assigned      Not assigned\n",
       "2      M3A        North York         Parkwoods\n",
       "3      M4A        North York  Victoria Village\n",
       "4      M5A  Downtown Toronto      Harbourfront"
      ]
     },
     "execution_count": 3,
     "metadata": {},
     "output_type": "execute_result"
    }
   ],
   "source": [
    "df.head()"
   ]
  },
  {
   "cell_type": "code",
   "execution_count": 5,
   "metadata": {},
   "outputs": [
    {
     "name": "stdout",
     "output_type": "stream",
     "text": [
      "Created DataFrame...\n",
      "Assigned neighborhood names...\n"
     ]
    },
    {
     "name": "stderr",
     "output_type": "stream",
     "text": [
      "/home/jupyterlab/conda/lib/python3.6/site-packages/pandas/core/frame.py:3694: SettingWithCopyWarning: \n",
      "A value is trying to be set on a copy of a slice from a DataFrame\n",
      "\n",
      "See the caveats in the documentation: http://pandas.pydata.org/pandas-docs/stable/indexing.html#indexing-view-versus-copy\n",
      "  errors=errors)\n",
      "/home/jupyterlab/conda/lib/python3.6/site-packages/ipykernel_launcher.py:7: SettingWithCopyWarning: \n",
      "A value is trying to be set on a copy of a slice from a DataFrame\n",
      "\n",
      "See the caveats in the documentation: http://pandas.pydata.org/pandas-docs/stable/indexing.html#indexing-view-versus-copy\n",
      "  import sys\n",
      "/home/jupyterlab/conda/lib/python3.6/site-packages/pandas/core/indexing.py:189: SettingWithCopyWarning: \n",
      "A value is trying to be set on a copy of a slice from a DataFrame\n",
      "\n",
      "See the caveats in the documentation: http://pandas.pydata.org/pandas-docs/stable/indexing.html#indexing-view-versus-copy\n",
      "  self._setitem_with_indexer(indexer, value)\n",
      "/home/jupyterlab/conda/lib/python3.6/site-packages/ipykernel_launcher.py:14: SettingWithCopyWarning: \n",
      "A value is trying to be set on a copy of a slice from a DataFrame\n",
      "\n",
      "See the caveats in the documentation: http://pandas.pydata.org/pandas-docs/stable/indexing.html#indexing-view-versus-copy\n",
      "  \n"
     ]
    }
   ],
   "source": [
    "#get rid of Not assigned Boroughs\n",
    "df1=df[df.Borough != 'Not assigned']\n",
    "\n",
    "df1.reset_index(inplace=True)\n",
    "df1.drop('index',axis=1,inplace=True)\n",
    "\n",
    "df1.sort_values(by=['Postcode','Borough'],inplace=True)\n",
    "\n",
    "print('Created DataFrame...')\n",
    "\n",
    "#rename nighbourhoods that have a not assigned value\n",
    "for i in df1.index:\n",
    "    if df1.iloc[i,2]=='Not assigned':\n",
    "        df1.iloc[i,2]=df1.iloc[i,1]\n",
    "    \n",
    "print('Assigned neighborhood names...')"
   ]
  },
  {
   "cell_type": "code",
   "execution_count": 6,
   "metadata": {},
   "outputs": [
    {
     "data": {
      "text/html": [
       "<div>\n",
       "<style scoped>\n",
       "    .dataframe tbody tr th:only-of-type {\n",
       "        vertical-align: middle;\n",
       "    }\n",
       "\n",
       "    .dataframe tbody tr th {\n",
       "        vertical-align: top;\n",
       "    }\n",
       "\n",
       "    .dataframe thead th {\n",
       "        text-align: right;\n",
       "    }\n",
       "</style>\n",
       "<table border=\"1\" class=\"dataframe\">\n",
       "  <thead>\n",
       "    <tr style=\"text-align: right;\">\n",
       "      <th></th>\n",
       "      <th>Postcode</th>\n",
       "      <th>Borough</th>\n",
       "      <th>Neighbourhood</th>\n",
       "    </tr>\n",
       "  </thead>\n",
       "  <tbody>\n",
       "    <tr>\n",
       "      <th>8</th>\n",
       "      <td>M1B</td>\n",
       "      <td>Scarborough</td>\n",
       "      <td>Rouge</td>\n",
       "    </tr>\n",
       "    <tr>\n",
       "      <th>9</th>\n",
       "      <td>M1B</td>\n",
       "      <td>Scarborough</td>\n",
       "      <td>Malvern</td>\n",
       "    </tr>\n",
       "    <tr>\n",
       "      <th>21</th>\n",
       "      <td>M1C</td>\n",
       "      <td>Scarborough</td>\n",
       "      <td>Highland Creek</td>\n",
       "    </tr>\n",
       "    <tr>\n",
       "      <th>22</th>\n",
       "      <td>M1C</td>\n",
       "      <td>Scarborough</td>\n",
       "      <td>Rouge Hill</td>\n",
       "    </tr>\n",
       "    <tr>\n",
       "      <th>23</th>\n",
       "      <td>M1C</td>\n",
       "      <td>Scarborough</td>\n",
       "      <td>Port Union</td>\n",
       "    </tr>\n",
       "  </tbody>\n",
       "</table>\n",
       "</div>"
      ],
      "text/plain": [
       "   Postcode      Borough   Neighbourhood\n",
       "8       M1B  Scarborough           Rouge\n",
       "9       M1B  Scarborough         Malvern\n",
       "21      M1C  Scarborough  Highland Creek\n",
       "22      M1C  Scarborough      Rouge Hill\n",
       "23      M1C  Scarborough      Port Union"
      ]
     },
     "execution_count": 6,
     "metadata": {},
     "output_type": "execute_result"
    }
   ],
   "source": [
    "df1.head()"
   ]
  },
  {
   "cell_type": "markdown",
   "metadata": {},
   "source": [
    "Group by Postcode"
   ]
  },
  {
   "cell_type": "code",
   "execution_count": 7,
   "metadata": {},
   "outputs": [
    {
     "name": "stderr",
     "output_type": "stream",
     "text": [
      "/home/jupyterlab/conda/lib/python3.6/site-packages/pandas/core/base.py:1241: SettingWithCopyWarning: \n",
      "A value is trying to be set on a copy of a slice from a DataFrame\n",
      "\n",
      "See the caveats in the documentation: http://pandas.pydata.org/pandas-docs/stable/indexing.html#indexing-view-versus-copy\n",
      "  return self._update_inplace(result)\n",
      "/home/jupyterlab/conda/lib/python3.6/site-packages/pandas/core/frame.py:3694: SettingWithCopyWarning: \n",
      "A value is trying to be set on a copy of a slice from a DataFrame\n",
      "\n",
      "See the caveats in the documentation: http://pandas.pydata.org/pandas-docs/stable/indexing.html#indexing-view-versus-copy\n",
      "  errors=errors)\n"
     ]
    }
   ],
   "source": [
    "#combine neighbourhoods with the same postalcode in one row\n",
    "#find unique postal codes\n",
    "\n",
    "dummy=df1['Postcode']\n",
    "\n",
    "dummy.drop_duplicates(inplace=True)\n",
    "df2=pd.DataFrame(dummy)\n",
    "df2['Borough']='';\n",
    "df2['Neighbourhood']='';\n",
    "\n",
    "\n",
    "df2.reset_index(inplace=True)\n",
    "df2.drop('index',axis=1,inplace=True)\n",
    "df1.reset_index(inplace=True)\n",
    "df1.drop('index',axis=1,inplace=True)\n",
    "\n",
    "#search for values in df1 and copy neighbourhood names to df2. Match criteris = Postcode\n",
    "for i in df2.index:\n",
    "    for j in df1.index:\n",
    "        if df2.iloc[i,0]==df1.iloc[j,0]:\n",
    "            df2.iloc[i,1]=df1.iloc[j,1]\n",
    "            df2.iloc[i,2]=df2.iloc[i,2]+','+df1.iloc[j,2]\n",
    "            \n",
    "#get rid of extra ','\n",
    "for i in df2.index:\n",
    "    s=df2.iloc[i,2]\n",
    "    if s[0]==',':\n",
    "        s=s[1:]\n",
    "    df2.iloc[i,2]=s"
   ]
  },
  {
   "cell_type": "markdown",
   "metadata": {},
   "source": [
    "Check the grouping"
   ]
  },
  {
   "cell_type": "code",
   "execution_count": 8,
   "metadata": {},
   "outputs": [
    {
     "name": "stdout",
     "output_type": "stream",
     "text": [
      "  Postcode      Borough                                  Neighbourhood\n",
      "0      M1B  Scarborough                                  Rouge,Malvern\n",
      "1      M1C  Scarborough           Highland Creek,Rouge Hill,Port Union\n",
      "2      M1E  Scarborough                Guildwood,Morningside,West Hill\n",
      "3      M1G  Scarborough                                         Woburn\n",
      "4      M1H  Scarborough                                      Cedarbrae\n",
      "5      M1J  Scarborough                            Scarborough Village\n",
      "6      M1K  Scarborough      East Birchmount Park,Ionview,Kennedy Park\n",
      "7      M1L  Scarborough                  Clairlea,Golden Mile,Oakridge\n",
      "8      M1M  Scarborough  Cliffcrest,Cliffside,Scarborough Village West\n",
      "9      M1N  Scarborough                     Birch Cliff,Cliffside West\n"
     ]
    }
   ],
   "source": [
    "print(df2.head(10))"
   ]
  },
  {
   "cell_type": "markdown",
   "metadata": {},
   "source": [
    "Check shape"
   ]
  },
  {
   "cell_type": "code",
   "execution_count": 9,
   "metadata": {},
   "outputs": [
    {
     "name": "stdout",
     "output_type": "stream",
     "text": [
      "(103, 3)\n"
     ]
    }
   ],
   "source": [
    "print(df2.shape)"
   ]
  },
  {
   "cell_type": "code",
   "execution_count": 10,
   "metadata": {},
   "outputs": [],
   "source": [
    "df2['Latitude']='0';\n",
    "df2['Longitude']='0';\n",
    "\n",
    "gsc=pd.read_csv('Geospatial_Coordinates.csv')"
   ]
  },
  {
   "cell_type": "markdown",
   "metadata": {},
   "source": [
    "Geocoder didnt work for me, so I am using the CSV file."
   ]
  },
  {
   "cell_type": "code",
   "execution_count": 11,
   "metadata": {},
   "outputs": [
    {
     "data": {
      "text/html": [
       "<div>\n",
       "<style scoped>\n",
       "    .dataframe tbody tr th:only-of-type {\n",
       "        vertical-align: middle;\n",
       "    }\n",
       "\n",
       "    .dataframe tbody tr th {\n",
       "        vertical-align: top;\n",
       "    }\n",
       "\n",
       "    .dataframe thead th {\n",
       "        text-align: right;\n",
       "    }\n",
       "</style>\n",
       "<table border=\"1\" class=\"dataframe\">\n",
       "  <thead>\n",
       "    <tr style=\"text-align: right;\">\n",
       "      <th></th>\n",
       "      <th>Postal Code</th>\n",
       "      <th>Latitude</th>\n",
       "      <th>Longitude</th>\n",
       "    </tr>\n",
       "  </thead>\n",
       "  <tbody>\n",
       "    <tr>\n",
       "      <th>0</th>\n",
       "      <td>M1B</td>\n",
       "      <td>43.806686</td>\n",
       "      <td>-79.194353</td>\n",
       "    </tr>\n",
       "    <tr>\n",
       "      <th>1</th>\n",
       "      <td>M1C</td>\n",
       "      <td>43.784535</td>\n",
       "      <td>-79.160497</td>\n",
       "    </tr>\n",
       "    <tr>\n",
       "      <th>2</th>\n",
       "      <td>M1E</td>\n",
       "      <td>43.763573</td>\n",
       "      <td>-79.188711</td>\n",
       "    </tr>\n",
       "    <tr>\n",
       "      <th>3</th>\n",
       "      <td>M1G</td>\n",
       "      <td>43.770992</td>\n",
       "      <td>-79.216917</td>\n",
       "    </tr>\n",
       "    <tr>\n",
       "      <th>4</th>\n",
       "      <td>M1H</td>\n",
       "      <td>43.773136</td>\n",
       "      <td>-79.239476</td>\n",
       "    </tr>\n",
       "  </tbody>\n",
       "</table>\n",
       "</div>"
      ],
      "text/plain": [
       "  Postal Code   Latitude  Longitude\n",
       "0         M1B  43.806686 -79.194353\n",
       "1         M1C  43.784535 -79.160497\n",
       "2         M1E  43.763573 -79.188711\n",
       "3         M1G  43.770992 -79.216917\n",
       "4         M1H  43.773136 -79.239476"
      ]
     },
     "execution_count": 11,
     "metadata": {},
     "output_type": "execute_result"
    }
   ],
   "source": [
    "gsc.head()"
   ]
  },
  {
   "cell_type": "code",
   "execution_count": 12,
   "metadata": {},
   "outputs": [],
   "source": [
    "for i in df2.index:\n",
    "    for j in gsc.index:\n",
    "        if df2.iloc[i,0]==gsc.iloc[j,0]:\n",
    "            df2.iloc[i,3]=gsc.iloc[j,1]\n",
    "            df2.iloc[i,4]=gsc.iloc[j,2]\n"
   ]
  },
  {
   "cell_type": "markdown",
   "metadata": {},
   "source": [
    "Add Latitue and Longitude information to the dataframe. Matching criteria = postcode."
   ]
  },
  {
   "cell_type": "code",
   "execution_count": 13,
   "metadata": {},
   "outputs": [
    {
     "data": {
      "text/html": [
       "<div>\n",
       "<style scoped>\n",
       "    .dataframe tbody tr th:only-of-type {\n",
       "        vertical-align: middle;\n",
       "    }\n",
       "\n",
       "    .dataframe tbody tr th {\n",
       "        vertical-align: top;\n",
       "    }\n",
       "\n",
       "    .dataframe thead th {\n",
       "        text-align: right;\n",
       "    }\n",
       "</style>\n",
       "<table border=\"1\" class=\"dataframe\">\n",
       "  <thead>\n",
       "    <tr style=\"text-align: right;\">\n",
       "      <th></th>\n",
       "      <th>Postcode</th>\n",
       "      <th>Borough</th>\n",
       "      <th>Neighbourhood</th>\n",
       "      <th>Latitude</th>\n",
       "      <th>Longitude</th>\n",
       "    </tr>\n",
       "  </thead>\n",
       "  <tbody>\n",
       "    <tr>\n",
       "      <th>0</th>\n",
       "      <td>M1B</td>\n",
       "      <td>Scarborough</td>\n",
       "      <td>Rouge,Malvern</td>\n",
       "      <td>43.8067</td>\n",
       "      <td>-79.1944</td>\n",
       "    </tr>\n",
       "    <tr>\n",
       "      <th>1</th>\n",
       "      <td>M1C</td>\n",
       "      <td>Scarborough</td>\n",
       "      <td>Highland Creek,Rouge Hill,Port Union</td>\n",
       "      <td>43.7845</td>\n",
       "      <td>-79.1605</td>\n",
       "    </tr>\n",
       "    <tr>\n",
       "      <th>2</th>\n",
       "      <td>M1E</td>\n",
       "      <td>Scarborough</td>\n",
       "      <td>Guildwood,Morningside,West Hill</td>\n",
       "      <td>43.7636</td>\n",
       "      <td>-79.1887</td>\n",
       "    </tr>\n",
       "    <tr>\n",
       "      <th>3</th>\n",
       "      <td>M1G</td>\n",
       "      <td>Scarborough</td>\n",
       "      <td>Woburn</td>\n",
       "      <td>43.771</td>\n",
       "      <td>-79.2169</td>\n",
       "    </tr>\n",
       "    <tr>\n",
       "      <th>4</th>\n",
       "      <td>M1H</td>\n",
       "      <td>Scarborough</td>\n",
       "      <td>Cedarbrae</td>\n",
       "      <td>43.7731</td>\n",
       "      <td>-79.2395</td>\n",
       "    </tr>\n",
       "  </tbody>\n",
       "</table>\n",
       "</div>"
      ],
      "text/plain": [
       "  Postcode      Borough                         Neighbourhood Latitude  \\\n",
       "0      M1B  Scarborough                         Rouge,Malvern  43.8067   \n",
       "1      M1C  Scarborough  Highland Creek,Rouge Hill,Port Union  43.7845   \n",
       "2      M1E  Scarborough       Guildwood,Morningside,West Hill  43.7636   \n",
       "3      M1G  Scarborough                                Woburn   43.771   \n",
       "4      M1H  Scarborough                             Cedarbrae  43.7731   \n",
       "\n",
       "  Longitude  \n",
       "0  -79.1944  \n",
       "1  -79.1605  \n",
       "2  -79.1887  \n",
       "3  -79.2169  \n",
       "4  -79.2395  "
      ]
     },
     "execution_count": 13,
     "metadata": {},
     "output_type": "execute_result"
    }
   ],
   "source": [
    "df2.head()"
   ]
  },
  {
   "cell_type": "code",
   "execution_count": 14,
   "metadata": {},
   "outputs": [
    {
     "data": {
      "text/plain": [
       "array(['Scarborough', 'North York', 'East York', 'East Toronto',\n",
       "       'Central Toronto', 'Downtown Toronto', 'York', 'West Toronto',\n",
       "       \"Queen's Park\", 'Mississauga', 'Etobicoke'], dtype=object)"
      ]
     },
     "execution_count": 14,
     "metadata": {},
     "output_type": "execute_result"
    }
   ],
   "source": [
    "df2.Borough.unique()"
   ]
  },
  {
   "cell_type": "code",
   "execution_count": 15,
   "metadata": {},
   "outputs": [],
   "source": [
    "df3=df2[df2.Borough.str.contains(\"Toronto\")]"
   ]
  },
  {
   "cell_type": "markdown",
   "metadata": {},
   "source": [
    "Getting rid of the boroughs that do not contain \"Toronto\""
   ]
  },
  {
   "cell_type": "code",
   "execution_count": 17,
   "metadata": {},
   "outputs": [
    {
     "name": "stdout",
     "output_type": "stream",
     "text": [
      "['East Toronto' 'Central Toronto' 'Downtown Toronto' 'West Toronto']\n"
     ]
    },
    {
     "data": {
      "text/plain": [
       "(38, 5)"
      ]
     },
     "execution_count": 17,
     "metadata": {},
     "output_type": "execute_result"
    }
   ],
   "source": [
    "print(df3.Borough.unique())\n",
    "df3.shape"
   ]
  },
  {
   "cell_type": "markdown",
   "metadata": {},
   "source": [
    "Running KMeans to cluster the neighborhoods into 4 clusters. Chances are they will cluster based on Borough(Downtown, East, West, Central)"
   ]
  },
  {
   "cell_type": "code",
   "execution_count": 18,
   "metadata": {},
   "outputs": [
    {
     "name": "stderr",
     "output_type": "stream",
     "text": [
      "/home/jupyterlab/conda/lib/python3.6/site-packages/ipykernel_launcher.py:19: SettingWithCopyWarning: \n",
      "A value is trying to be set on a copy of a slice from a DataFrame.\n",
      "Try using .loc[row_indexer,col_indexer] = value instead\n",
      "\n",
      "See the caveats in the documentation: http://pandas.pydata.org/pandas-docs/stable/indexing.html#indexing-view-versus-copy\n"
     ]
    },
    {
     "data": {
      "text/html": [
       "<div style=\"width:100%;\"><div style=\"position:relative;width:100%;height:0;padding-bottom:60%;\"><iframe src=\"data:text/html;charset=utf-8;base64,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\" style=\"position:absolute;width:100%;height:100%;left:0;top:0;border:none !important;\" allowfullscreen webkitallowfullscreen mozallowfullscreen></iframe></div></div>"
      ],
      "text/plain": [
       "<folium.folium.Map at 0x7fe29d82fa20>"
      ]
     },
     "execution_count": 18,
     "metadata": {},
     "output_type": "execute_result"
    }
   ],
   "source": [
    "import folium\n",
    "toronto_map=folium.Map(location=[43.65, -79.4], zoom_start=11)\n",
    "\n",
    "\n",
    "X=df3['Latitude']\n",
    "Y=df3['Longitude']\n",
    "\n",
    "x=np.asarray(X)\n",
    "y=np.asarray(Y)\n",
    "\n",
    "Z=np.stack((X,Y),axis=1)\n",
    "\n",
    "from sklearn.cluster import KMeans \n",
    "k_means = KMeans(init = \"k-means++\", n_clusters = 4, n_init = 5)\n",
    "k_means.fit(Z)\n",
    "clusterindex=k_means.labels_\n",
    "\n",
    "\n",
    "df3['cluster']=clusterindex\n",
    "\n",
    "colors=['red','green','blue','yellow','pink','gray','magenta','cyan']\n",
    "\n",
    "\n",
    "for lat, lng, label,cl_ind in zip(df3['Latitude'], df3['Longitude'], df3['Borough'],df3['cluster']):\n",
    "    label = folium.Popup(label, parse_html=True)\n",
    "    folium.CircleMarker(\n",
    "        [lat, lng],\n",
    "        radius=5,\n",
    "        popup=label,\n",
    "        color='black',\n",
    "        fill=True,\n",
    "        fill_color=colors[cl_ind], #set color according to clusterindex\n",
    "        fill_opacity=0.7,\n",
    "        parse_html=False).add_to(toronto_map)  \n",
    "\n",
    "toronto_map\n",
    "\n"
   ]
  },
  {
   "cell_type": "markdown",
   "metadata": {},
   "source": [
    "Indeed, the neighborhoods are clustered based on the Borough. Green is downtown, Yellow is East, Red is central and Blue is West."
   ]
  },
  {
   "cell_type": "code",
   "execution_count": null,
   "metadata": {},
   "outputs": [],
   "source": []
  },
  {
   "cell_type": "code",
   "execution_count": null,
   "metadata": {},
   "outputs": [],
   "source": []
  }
 ],
 "metadata": {
  "kernelspec": {
   "display_name": "Python 3",
   "language": "python",
   "name": "python3"
  },
  "language_info": {
   "codemirror_mode": {
    "name": "ipython",
    "version": 3
   },
   "file_extension": ".py",
   "mimetype": "text/x-python",
   "name": "python",
   "nbconvert_exporter": "python",
   "pygments_lexer": "ipython3",
   "version": "3.6.5"
  }
 },
 "nbformat": 4,
 "nbformat_minor": 2
}
