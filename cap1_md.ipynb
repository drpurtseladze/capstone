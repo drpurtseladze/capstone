{
 "cells": [
  {
   "cell_type": "code",
   "execution_count": 2,
   "metadata": {},
   "outputs": [],
   "source": [
    "import pandas as pd\n",
    "import numpy as np\n",
    "import requests"
   ]
  },
  {
   "cell_type": "markdown",
   "metadata": {},
   "source": [
    "Use beautfiul soup to locate the table header and content"
   ]
  },
  {
   "cell_type": "code",
   "execution_count": 3,
   "metadata": {},
   "outputs": [
    {
     "name": "stdout",
     "output_type": "stream",
     "text": [
      "['Postcode', 'Borough', 'Neighbourhood']\n",
      "Extracted from html...\n"
     ]
    }
   ],
   "source": [
    "from bs4 import BeautifulSoup\n",
    "page_address='https://en.wikipedia.org/wiki/List_of_postal_codes_of_Canada:_M'\n",
    "page_content=requests.get(page_address).text\n",
    "soup = BeautifulSoup(page_content,'html.parser')\n",
    "\n",
    "sa=[]\n",
    "\n",
    "#fetch column names\n",
    "titlerow = soup.find('tr').text\n",
    "head_=titlerow.split('\\n')\n",
    "del head_[0]\n",
    "del head_[-1]\n",
    "\n",
    "print(head_)\n",
    "\n",
    "#fetch column content\n",
    "for rows_ in soup.findAll('tr'):\n",
    "    s=''\n",
    "    for columns_ in rows_.findAll('td'):\n",
    "        s=s+','+columns_.text\n",
    "\n",
    "    s=s[1:]\n",
    "    s=s.replace('\\n','')\n",
    "    sp=s.split(',')\n",
    "    sa.append(sp)\n",
    "  \n",
    "#clean up      \n",
    "del sa[0]\n",
    "for i in range(293,288,-1):\n",
    "    del sa[i]\n",
    "    \n",
    "print('Extracted from html...')\n",
    "\n",
    "df = pd.DataFrame.from_records(sa, columns=head_)"
   ]
  },
  {
   "cell_type": "code",
   "execution_count": 4,
   "metadata": {},
   "outputs": [
    {
     "data": {
      "text/html": [
       "<div>\n",
       "<style scoped>\n",
       "    .dataframe tbody tr th:only-of-type {\n",
       "        vertical-align: middle;\n",
       "    }\n",
       "\n",
       "    .dataframe tbody tr th {\n",
       "        vertical-align: top;\n",
       "    }\n",
       "\n",
       "    .dataframe thead th {\n",
       "        text-align: right;\n",
       "    }\n",
       "</style>\n",
       "<table border=\"1\" class=\"dataframe\">\n",
       "  <thead>\n",
       "    <tr style=\"text-align: right;\">\n",
       "      <th></th>\n",
       "      <th>Postcode</th>\n",
       "      <th>Borough</th>\n",
       "      <th>Neighbourhood</th>\n",
       "    </tr>\n",
       "  </thead>\n",
       "  <tbody>\n",
       "    <tr>\n",
       "      <th>0</th>\n",
       "      <td>M1A</td>\n",
       "      <td>Not assigned</td>\n",
       "      <td>Not assigned</td>\n",
       "    </tr>\n",
       "    <tr>\n",
       "      <th>1</th>\n",
       "      <td>M2A</td>\n",
       "      <td>Not assigned</td>\n",
       "      <td>Not assigned</td>\n",
       "    </tr>\n",
       "    <tr>\n",
       "      <th>2</th>\n",
       "      <td>M3A</td>\n",
       "      <td>North York</td>\n",
       "      <td>Parkwoods</td>\n",
       "    </tr>\n",
       "    <tr>\n",
       "      <th>3</th>\n",
       "      <td>M4A</td>\n",
       "      <td>North York</td>\n",
       "      <td>Victoria Village</td>\n",
       "    </tr>\n",
       "    <tr>\n",
       "      <th>4</th>\n",
       "      <td>M5A</td>\n",
       "      <td>Downtown Toronto</td>\n",
       "      <td>Harbourfront</td>\n",
       "    </tr>\n",
       "  </tbody>\n",
       "</table>\n",
       "</div>"
      ],
      "text/plain": [
       "  Postcode           Borough     Neighbourhood\n",
       "0      M1A      Not assigned      Not assigned\n",
       "1      M2A      Not assigned      Not assigned\n",
       "2      M3A        North York         Parkwoods\n",
       "3      M4A        North York  Victoria Village\n",
       "4      M5A  Downtown Toronto      Harbourfront"
      ]
     },
     "execution_count": 4,
     "metadata": {},
     "output_type": "execute_result"
    }
   ],
   "source": [
    "df.head()"
   ]
  },
  {
   "cell_type": "code",
   "execution_count": 1,
   "metadata": {},
   "outputs": [],
   "source": [
    "#get rid of Not assigned Boroughs\n",
    "df1=df[df.Borough != 'Not assigned']\n",
    "\n",
    "df1.reset_index(inplace=True)\n",
    "df1.drop('index',axis=1,inplace=True)\n",
    "\n",
    "df1.sort_values(by=['Postcode','Borough'],inplace=True)\n",
    "\n",
    "print('Created DataFrame...')\n",
    "\n",
    "#rename nighbourhoods that have a not assigned value\n",
    "for i in df1.index:\n",
    "    if df1.iloc[i,2]=='Not assigned':\n",
    "        df1.iloc[i,2]=df1.iloc[i,1]\n",
    "    \n",
    "print('Assigned neighborhood names...')"
   ]
  },
  {
   "cell_type": "code",
   "execution_count": 11,
   "metadata": {},
   "outputs": [
    {
     "data": {
      "text/html": [
       "<div>\n",
       "<style scoped>\n",
       "    .dataframe tbody tr th:only-of-type {\n",
       "        vertical-align: middle;\n",
       "    }\n",
       "\n",
       "    .dataframe tbody tr th {\n",
       "        vertical-align: top;\n",
       "    }\n",
       "\n",
       "    .dataframe thead th {\n",
       "        text-align: right;\n",
       "    }\n",
       "</style>\n",
       "<table border=\"1\" class=\"dataframe\">\n",
       "  <thead>\n",
       "    <tr style=\"text-align: right;\">\n",
       "      <th></th>\n",
       "      <th>Postcode</th>\n",
       "      <th>Borough</th>\n",
       "      <th>Neighbourhood</th>\n",
       "    </tr>\n",
       "  </thead>\n",
       "  <tbody>\n",
       "    <tr>\n",
       "      <th>0</th>\n",
       "      <td>M1B</td>\n",
       "      <td>Scarborough</td>\n",
       "      <td>Rouge</td>\n",
       "    </tr>\n",
       "    <tr>\n",
       "      <th>1</th>\n",
       "      <td>M1B</td>\n",
       "      <td>Scarborough</td>\n",
       "      <td>Malvern</td>\n",
       "    </tr>\n",
       "    <tr>\n",
       "      <th>2</th>\n",
       "      <td>M1C</td>\n",
       "      <td>Scarborough</td>\n",
       "      <td>Highland Creek</td>\n",
       "    </tr>\n",
       "    <tr>\n",
       "      <th>3</th>\n",
       "      <td>M1C</td>\n",
       "      <td>Scarborough</td>\n",
       "      <td>Rouge Hill</td>\n",
       "    </tr>\n",
       "    <tr>\n",
       "      <th>4</th>\n",
       "      <td>M1C</td>\n",
       "      <td>Scarborough</td>\n",
       "      <td>Port Union</td>\n",
       "    </tr>\n",
       "  </tbody>\n",
       "</table>\n",
       "</div>"
      ],
      "text/plain": [
       "  Postcode      Borough   Neighbourhood\n",
       "0      M1B  Scarborough           Rouge\n",
       "1      M1B  Scarborough         Malvern\n",
       "2      M1C  Scarborough  Highland Creek\n",
       "3      M1C  Scarborough      Rouge Hill\n",
       "4      M1C  Scarborough      Port Union"
      ]
     },
     "execution_count": 11,
     "metadata": {},
     "output_type": "execute_result"
    }
   ],
   "source": [
    "df1.head()"
   ]
  },
  {
   "cell_type": "markdown",
   "metadata": {},
   "source": [
    "Group by Postcode"
   ]
  },
  {
   "cell_type": "code",
   "execution_count": 8,
   "metadata": {},
   "outputs": [],
   "source": [
    "#combine neighbourhoods with the same postalcode in one row\n",
    "#find unique postal codes\n",
    "\n",
    "dummy=df1['Postcode']\n",
    "\n",
    "dummy.drop_duplicates(inplace=True)\n",
    "df2=pd.DataFrame(dummy)\n",
    "df2['Neighbourhood']='';\n",
    "df2['Borough']='';\n",
    "\n",
    "df2.reset_index(inplace=True)\n",
    "df2.drop('index',axis=1,inplace=True)\n",
    "df1.reset_index(inplace=True)\n",
    "df1.drop('index',axis=1,inplace=True)\n",
    "\n",
    "#search for values in df1 and copy neighbourhood names to df2. Match criteris = Postcode\n",
    "for i in df2.index:\n",
    "    for j in df1.index:\n",
    "        if df2.iloc[i,0]==df1.iloc[j,0]:\n",
    "            df2.iloc[i,1]=df1.iloc[j,1]\n",
    "            df2.iloc[i,2]=df2.iloc[i,2]+','+df1.iloc[j,2]\n",
    "            \n",
    "#get rid of extra ','\n",
    "for i in df2.index:\n",
    "    s=df2.iloc[i,2]\n",
    "    if s[0]==',':\n",
    "        s=s[1:]\n",
    "    df2.iloc[i,2]=s"
   ]
  },
  {
   "cell_type": "markdown",
   "metadata": {},
   "source": [
    "Check the grouping"
   ]
  },
  {
   "cell_type": "code",
   "execution_count": 10,
   "metadata": {},
   "outputs": [
    {
     "name": "stdout",
     "output_type": "stream",
     "text": [
      "  Postcode Neighbourhood                                        Borough\n",
      "0      M1B   Scarborough                                  Rouge,Malvern\n",
      "1      M1C   Scarborough           Highland Creek,Rouge Hill,Port Union\n",
      "2      M1E   Scarborough                Guildwood,Morningside,West Hill\n",
      "3      M1G   Scarborough                                         Woburn\n",
      "4      M1H   Scarborough                                      Cedarbrae\n",
      "5      M1J   Scarborough                            Scarborough Village\n",
      "6      M1K   Scarborough      East Birchmount Park,Ionview,Kennedy Park\n",
      "7      M1L   Scarborough                  Clairlea,Golden Mile,Oakridge\n",
      "8      M1M   Scarborough  Cliffcrest,Cliffside,Scarborough Village West\n",
      "9      M1N   Scarborough                     Birch Cliff,Cliffside West\n"
     ]
    }
   ],
   "source": [
    "print(df2.head(10))"
   ]
  },
  {
   "cell_type": "markdown",
   "metadata": {},
   "source": [
    "Check shape"
   ]
  },
  {
   "cell_type": "code",
   "execution_count": 12,
   "metadata": {},
   "outputs": [
    {
     "name": "stdout",
     "output_type": "stream",
     "text": [
      "(103, 3)\n"
     ]
    }
   ],
   "source": [
    "print(df2.shape)"
   ]
  },
  {
   "cell_type": "code",
   "execution_count": null,
   "metadata": {},
   "outputs": [],
   "source": []
  }
 ],
 "metadata": {
  "kernelspec": {
   "display_name": "Python 3",
   "language": "python",
   "name": "python3"
  },
  "language_info": {
   "codemirror_mode": {
    "name": "ipython",
    "version": 3
   },
   "file_extension": ".py",
   "mimetype": "text/x-python",
   "name": "python",
   "nbconvert_exporter": "python",
   "pygments_lexer": "ipython3",
   "version": "3.6.5"
  }
 },
 "nbformat": 4,
 "nbformat_minor": 2
}
